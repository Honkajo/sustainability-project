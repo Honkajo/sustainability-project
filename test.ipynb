{
 "cells": [
  {
   "cell_type": "code",
   "execution_count": null,
   "metadata": {},
   "outputs": [],
   "source": [
    "from codecarbon import EmissionsTracker\n",
    "import os\n",
    "import subprocess\n",
    "import sys\n",
    "import pandas as pd\n",
    "\n",
    "def list_python_files(directory):\n",
    "    python_files = []\n",
    "    for file in os.listdir(directory):\n",
    "        if file.endswith(\".py\"):\n",
    "            python_files.append(os.path.join(directory, file))\n",
    "    return python_files\n",
    "\n",
    "def run_python_file(file_path):\n",
    "    try:\n",
    "        print(f\"Running file: {file_path}\")\n",
    "        tracker = EmissionsTracker(\n",
    "                    save_to_file=False,\n",
    "                    measure_power_secs=5,\n",
    "                    log_level=\"CRITICAL\",\n",
    "                    allow_multiple_runs=True,\n",
    "                    )\n",
    "        tracker.start()  # Start tracking\n",
    "        subprocess.run([sys.executable, file_path], check=True)  # Run the file\n",
    "        tracker.stop()  # Stop tracking\n",
    "        emissions_data = tracker.final_emissions_data\n",
    "\n",
    "        data_entry = {\n",
    "            'file_path': file_path,\n",
    "            'emissions': emissions_data.emissions,\n",
    "            'emissions_rate': emissions_data.emissions_rate,\n",
    "            'cpu_power': emissions_data.cpu_power,\n",
    "            'gpu_power': emissions_data.gpu_power,\n",
    "            'ram_power': emissions_data.ram_power,\n",
    "            'cpu_energy': emissions_data.cpu_energy,\n",
    "            'gpu_energy': emissions_data.gpu_energy,\n",
    "            'ram_energy': emissions_data.ram_energy,\n",
    "            'energy_consumed': emissions_data.energy_consumed\n",
    "        }\n",
    "        return data_entry\n",
    "        # duration = tracker.final_emissions_data.duration\n",
    "        # print(duration, tracker.final_emissions_data.energy_consumed)\n",
    "\n",
    "    except subprocess.CalledProcessError as e:\n",
    "        print(f\"Error running {file_path}: {e}\")\n",
    "    except Exception as e:\n",
    "        print(f\"Unexpected error running {file_path}: {e}\")\n",
    "\n"
   ]
  },
  {
   "cell_type": "code",
   "execution_count": 19,
   "metadata": {},
   "outputs": [
    {
     "name": "stdout",
     "output_type": "stream",
     "text": [
      "Found 2 Python files in ./tests/:\n",
      " - ./tests/fibonacci copy.py\n",
      " - ./tests/fibonacci.py\n",
      "Running file: ./tests/fibonacci copy.py\n",
      "Running file: ./tests/fibonacci.py\n"
     ]
    }
   ],
   "source": [
    "import pandas as pd\n",
    "directory = \"./tests/\"\n",
    "\n",
    "if not os.path.isdir(directory):\n",
    "    print(f\"Error: {directory} is not a valid directory.\")\n",
    "\n",
    "python_files = list_python_files(directory)\n",
    "if not python_files:\n",
    "    print(f\"No Python files found in {directory}.\")\n",
    "\n",
    "print(f\"Found {len(python_files)} Python files in {directory}:\")\n",
    "\n",
    "for file in python_files:\n",
    "    print(f\" - {file}\")\n",
    "\n",
    "data_entries = []\n",
    "for file in python_files:\n",
    "    entry = run_python_file(file)\n",
    "    if entry:\n",
    "        data_entries.append(entry)\n",
    "df = pd.DataFrame(data_entries)\n",
    "\n"
   ]
  },
  {
   "cell_type": "code",
   "execution_count": 20,
   "metadata": {},
   "outputs": [
    {
     "data": {
      "text/html": [
       "<div>\n",
       "<style scoped>\n",
       "    .dataframe tbody tr th:only-of-type {\n",
       "        vertical-align: middle;\n",
       "    }\n",
       "\n",
       "    .dataframe tbody tr th {\n",
       "        vertical-align: top;\n",
       "    }\n",
       "\n",
       "    .dataframe thead th {\n",
       "        text-align: right;\n",
       "    }\n",
       "</style>\n",
       "<table border=\"1\" class=\"dataframe\">\n",
       "  <thead>\n",
       "    <tr style=\"text-align: right;\">\n",
       "      <th></th>\n",
       "      <th>file_path</th>\n",
       "      <th>emissions</th>\n",
       "      <th>emissions_rate</th>\n",
       "      <th>cpu_power</th>\n",
       "      <th>gpu_power</th>\n",
       "      <th>ram_power</th>\n",
       "      <th>cpu_energy</th>\n",
       "      <th>gpu_energy</th>\n",
       "      <th>ram_energy</th>\n",
       "      <th>energy_consumed</th>\n",
       "    </tr>\n",
       "  </thead>\n",
       "  <tbody>\n",
       "    <tr>\n",
       "      <th>0</th>\n",
       "      <td>./tests/fibonacci copy.py</td>\n",
       "      <td>1.441153e-07</td>\n",
       "      <td>0.000001</td>\n",
       "      <td>42.5</td>\n",
       "      <td>0.0</td>\n",
       "      <td>6.0</td>\n",
       "      <td>1.595612e-06</td>\n",
       "      <td>0</td>\n",
       "      <td>2.249908e-07</td>\n",
       "      <td>1.820603e-06</td>\n",
       "    </tr>\n",
       "    <tr>\n",
       "      <th>1</th>\n",
       "      <td>./tests/fibonacci.py</td>\n",
       "      <td>2.361651e-08</td>\n",
       "      <td>0.000001</td>\n",
       "      <td>42.5</td>\n",
       "      <td>0.0</td>\n",
       "      <td>6.0</td>\n",
       "      <td>2.616588e-07</td>\n",
       "      <td>0</td>\n",
       "      <td>3.668771e-08</td>\n",
       "      <td>2.983465e-07</td>\n",
       "    </tr>\n",
       "  </tbody>\n",
       "</table>\n",
       "</div>"
      ],
      "text/plain": [
       "                   file_path     emissions  emissions_rate  cpu_power  \\\n",
       "0  ./tests/fibonacci copy.py  1.441153e-07        0.000001       42.5   \n",
       "1       ./tests/fibonacci.py  2.361651e-08        0.000001       42.5   \n",
       "\n",
       "   gpu_power  ram_power    cpu_energy  gpu_energy    ram_energy  \\\n",
       "0        0.0        6.0  1.595612e-06           0  2.249908e-07   \n",
       "1        0.0        6.0  2.616588e-07           0  3.668771e-08   \n",
       "\n",
       "   energy_consumed  \n",
       "0     1.820603e-06  \n",
       "1     2.983465e-07  "
      ]
     },
     "execution_count": 20,
     "metadata": {},
     "output_type": "execute_result"
    }
   ],
   "source": [
    "df"
   ]
  },
  {
   "cell_type": "code",
   "execution_count": 111,
   "metadata": {},
   "outputs": [
    {
     "ename": "AttributeError",
     "evalue": "'EmissionsTracker' object has no attribute 'final_emissions_data'",
     "output_type": "error",
     "traceback": [
      "\u001b[31m---------------------------------------------------------------------------\u001b[39m",
      "\u001b[31mAttributeError\u001b[39m                            Traceback (most recent call last)",
      "\u001b[36mCell\u001b[39m\u001b[36m \u001b[39m\u001b[32mIn[111]\u001b[39m\u001b[32m, line 1\u001b[39m\n\u001b[32m----> \u001b[39m\u001b[32m1\u001b[39m \u001b[43mtracker\u001b[49m\u001b[43m.\u001b[49m\u001b[43mfinal_emissions_data\u001b[49m, tracker.final_emissions_data.cpu_power\n",
      "\u001b[31mAttributeError\u001b[39m: 'EmissionsTracker' object has no attribute 'final_emissions_data'"
     ]
    }
   ],
   "source": [
    "tracker.final_emissions_data, tracker.final_emissions_data.cpu_power"
   ]
  },
  {
   "cell_type": "code",
   "execution_count": 94,
   "metadata": {},
   "outputs": [
    {
     "data": {
      "text/plain": [
       "EmissionsData(timestamp='2025-03-06T17:17:41', project_name='codecarbon', run_id='6f15a9e8-8efa-44fe-a139-3d90c156f515', experiment_id='5b0fa12a-3dd7-45bb-9766-cc326314d9f1', duration=1942.732386415999, emissions=0.0020717937659336986, emissions_rate=1.0664329170708866e-06, cpu_power=42.5, gpu_power=0.0, ram_power=6.0, cpu_energy=0.02293502202946434, gpu_energy=0, ram_energy=0.003237869730480308, energy_consumed=0.026172891759944646, country_name='Finland', country_iso_code='FIN', region='uusimaa', cloud_provider='', cloud_region='', os='macOS-15.3.1-arm64-arm-64bit', python_version='3.11.10', codecarbon_version='2.8.3', cpu_count=8, cpu_model='Apple M3', gpu_count=None, gpu_model=None, longitude=24.9347, latitude=60.1719, ram_total_size=16.0, tracking_mode='machine', on_cloud='N', pue=1.0)"
      ]
     },
     "execution_count": 94,
     "metadata": {},
     "output_type": "execute_result"
    }
   ],
   "source": [
    "tracker.final_emissions_data"
   ]
  }
 ],
 "metadata": {
  "kernelspec": {
   "display_name": "venv",
   "language": "python",
   "name": "python3"
  },
  "language_info": {
   "codemirror_mode": {
    "name": "ipython",
    "version": 3
   },
   "file_extension": ".py",
   "mimetype": "text/x-python",
   "name": "python",
   "nbconvert_exporter": "python",
   "pygments_lexer": "ipython3",
   "version": "3.11.10"
  }
 },
 "nbformat": 4,
 "nbformat_minor": 2
}
