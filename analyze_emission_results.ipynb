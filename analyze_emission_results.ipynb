{
 "cells": [
  {
   "cell_type": "code",
   "execution_count": 11,
   "metadata": {},
   "outputs": [
    {
     "data": {
      "text/plain": [
       "'./df_output'"
      ]
     },
     "execution_count": 11,
     "metadata": {},
     "output_type": "execute_result"
    }
   ],
   "source": [
    "import pandas as pd\n",
    "import os\n",
    "\n",
    "def list_csv_files(directory):\n",
    "    csv_files = []\n",
    "    for file in os.listdir(directory):\n",
    "        if file.endswith(\".csv\"):\n",
    "            csv_files.append(os.path.join(directory, file))\n",
    "    return csv_files\n",
    "\n",
    "input_folder = \"./df_output/\"\n",
    "os.path.dirname(input_folder)\n"
   ]
  },
  {
   "cell_type": "code",
   "execution_count": null,
   "metadata": {},
   "outputs": [
    {
     "name": "stdout",
     "output_type": "stream",
     "text": [
      "   Unnamed: 0                                         file_path   duration  \\\n",
      "0           0  ./code_examples/bad_sort_no_indicators/sort15.py   5.480937   \n",
      "1           1  ./code_examples/bad_sort_no_indicators/sort11.py   6.359077   \n",
      "2           2  ./code_examples/bad_sort_no_indicators/sort10.py   5.458594   \n",
      "3           3  ./code_examples/bad_sort_no_indicators/sort14.py  13.412205   \n",
      "4           4   ./code_examples/bad_sort_no_indicators/sort1.py   6.238094   \n",
      "\n",
      "   emissions  emissions_rate  cpu_power  gpu_power  ram_power  cpu_energy  \\\n",
      "0   0.000006        0.000001       42.5        0.0        6.0    0.000065   \n",
      "1   0.000007        0.000001       42.5        0.0        6.0    0.000075   \n",
      "2   0.000006        0.000001       42.5        0.0        6.0    0.000064   \n",
      "3   0.000014        0.000001       42.5        0.0        6.0    0.000158   \n",
      "4   0.000007        0.000001       42.5        0.0        6.0    0.000074   \n",
      "\n",
      "   gpu_energy  ram_energy  energy_consumed  \n",
      "0           0    0.000009         0.000074  \n",
      "1           0    0.000011         0.000086  \n",
      "2           0    0.000009         0.000074  \n",
      "3           0    0.000022         0.000181  \n",
      "4           0    0.000010         0.000084  \n",
      "   Unnamed: 0                             file_path   duration     emissions  \\\n",
      "0           0         ./code_examples/ml/log_reg.py   8.218133  8.764056e-06   \n",
      "1           1          ./code_examples/ml/kmeans.py  13.911510  4.455333e-07   \n",
      "2           2  ./code_examples/ml/neural-network.py  10.280690  1.096360e-05   \n",
      "3           3   ./code_examples/ml/random_forest.py  14.547262  1.551352e-05   \n",
      "4           4             ./code_examples/ml/knn.py   7.671746  8.181349e-06   \n",
      "\n",
      "   emissions_rate  cpu_power  gpu_power  ram_power  cpu_energy  gpu_energy  \\\n",
      "0    1.066429e-06       42.5        0.0        6.0    0.000097           0   \n",
      "1    3.202624e-08       42.5        0.0        6.0    0.000164           0   \n",
      "2    1.066426e-06       42.5        0.0        6.0    0.000121           0   \n",
      "3    1.066422e-06       42.5        0.0        6.0    0.000172           0   \n",
      "4    1.066426e-06       42.5        0.0        6.0    0.000091           0   \n",
      "\n",
      "   ram_energy  energy_consumed  \n",
      "0    0.000014         0.000111  \n",
      "1    0.000023         0.000187  \n",
      "2    0.000017         0.000139  \n",
      "3    0.000024         0.000196  \n",
      "4    0.000013         0.000103  \n",
      "   Unnamed: 0                         file_path  duration     emissions  \\\n",
      "0           0  ./code_examples/graphs/graph4.py  8.615671  9.188000e-06   \n",
      "1           1  ./code_examples/graphs/graph1.py  7.469879  7.965962e-06   \n",
      "2           2  ./code_examples/graphs/graph5.py  7.532888  8.033288e-06   \n",
      "3           3  ./code_examples/graphs/graph2.py  0.312522  3.332586e-07   \n",
      "4           4  ./code_examples/graphs/graph6.py  8.925701  9.518618e-06   \n",
      "\n",
      "   emissions_rate  cpu_power  gpu_power  ram_power  cpu_energy  gpu_energy  \\\n",
      "0        0.000001       42.5        0.0        6.0    0.000102           0   \n",
      "1        0.000001       42.5        0.0        6.0    0.000088           0   \n",
      "2        0.000001       42.5        0.0        6.0    0.000089           0   \n",
      "3        0.000001       42.5        0.0        6.0    0.000004           0   \n",
      "4        0.000001       42.5        0.0        6.0    0.000105           0   \n",
      "\n",
      "     ram_energy  energy_consumed  \n",
      "0  1.435919e-05         0.000116  \n",
      "1  1.244908e-05         0.000101  \n",
      "2  1.255459e-05         0.000101  \n",
      "3  5.207438e-07         0.000004  \n",
      "4  1.487591e-05         0.000120  \n",
      "   Unnamed: 0                                          file_path  duration  \\\n",
      "0           0  ./code_examples/nested_loops_random_programms/...  1.745723   \n",
      "1           1  ./code_examples/nested_loops_random_programms/...  3.405565   \n",
      "2           2  ./code_examples/nested_loops_random_programms/...  4.782100   \n",
      "3           3  ./code_examples/nested_loops_random_programms/...  0.774695   \n",
      "4           4  ./code_examples/nested_loops_random_programms/...  4.551069   \n",
      "\n",
      "      emissions  emissions_rate  cpu_power  gpu_power  ram_power  cpu_energy  \\\n",
      "0  1.861670e-06        0.000001       42.5        0.0        6.0    0.000021   \n",
      "1  3.631790e-06        0.000001       42.5        0.0        6.0    0.000040   \n",
      "2  5.099775e-06        0.000001       42.5        0.0        6.0    0.000056   \n",
      "3  8.261379e-07        0.000001       42.5        0.0        6.0    0.000009   \n",
      "4  4.853388e-06        0.000001       42.5        0.0        6.0    0.000054   \n",
      "\n",
      "   gpu_energy  ram_energy  energy_consumed  \n",
      "0           0    0.000003         0.000024  \n",
      "1           0    0.000006         0.000046  \n",
      "2           0    0.000008         0.000064  \n",
      "3           0    0.000001         0.000010  \n",
      "4           0    0.000008         0.000061  \n"
     ]
    }
   ],
   "source": [
    "csv_files = list_csv_files(input_folder)\n",
    "for file in csv_files:\n",
    "    df = pd.read_csv(file)"
   ]
  }
 ],
 "metadata": {
  "kernelspec": {
   "display_name": "venv",
   "language": "python",
   "name": "python3"
  },
  "language_info": {
   "codemirror_mode": {
    "name": "ipython",
    "version": 3
   },
   "file_extension": ".py",
   "mimetype": "text/x-python",
   "name": "python",
   "nbconvert_exporter": "python",
   "pygments_lexer": "ipython3",
   "version": "3.11.10"
  }
 },
 "nbformat": 4,
 "nbformat_minor": 2
}
